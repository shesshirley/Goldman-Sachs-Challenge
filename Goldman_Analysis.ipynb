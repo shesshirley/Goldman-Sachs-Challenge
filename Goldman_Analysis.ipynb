{
  "nbformat": 4,
  "nbformat_minor": 0,
  "metadata": {
    "colab": {
      "name": "Goldman Analysis.ipynb",
      "provenance": [],
      "collapsed_sections": [],
      "include_colab_link": true
    },
    "kernelspec": {
      "display_name": "Python 3",
      "name": "python3"
    },
    "language_info": {
      "name": "python"
    }
  },
  "cells": [
    {
      "cell_type": "markdown",
      "metadata": {
        "id": "view-in-github",
        "colab_type": "text"
      },
      "source": [
        "<a href=\"https://colab.research.google.com/github/shesshirley/Goldman-Analysis/blob/main/Goldman_Analysis.ipynb\" target=\"_parent\"><img src=\"https://colab.research.google.com/assets/colab-badge.svg\" alt=\"Open In Colab\"/></a>"
      ]
    },
    {
      "cell_type": "code",
      "metadata": {
        "colab": {
          "base_uri": "https://localhost:8080/"
        },
        "id": "_lXEglZ0feOt",
        "outputId": "ec6ed68c-4f98-4522-cd23-e80a0133c242"
      },
      "source": [
        "from google.colab import drive\n",
        "drive.mount('/content/drive')\n",
        "%cd '/content/drive/Shared drives/datathon'"
      ],
      "execution_count": null,
      "outputs": [
        {
          "output_type": "stream",
          "name": "stdout",
          "text": [
            "Mounted at /content/drive\n",
            "/content/drive/Shared drives/datathon\n"
          ]
        }
      ]
    },
    {
      "cell_type": "code",
      "metadata": {
        "id": "65Shae5Jd5CU"
      },
      "source": [
        "import pandas as pd\n",
        "import numpy as np"
      ],
      "execution_count": null,
      "outputs": []
    },
    {
      "cell_type": "markdown",
      "metadata": {
        "id": "DQKKuxDXdlM4"
      },
      "source": [
        "# Data Collection"
      ]
    },
    {
      "cell_type": "code",
      "metadata": {
        "id": "_I89TadjeK2m"
      },
      "source": [
        "#using get query to save datasets and read into dataframes\n",
        "stock_df = pd.read_csv(\"stock_history.csv\")\n",
        "env_df = pd.read_csv(\"env_data.csv\")\n",
        "company_df = pd.read_csv(\"company_profile.csv\")"
      ],
      "execution_count": null,
      "outputs": []
    },
    {
      "cell_type": "markdown",
      "metadata": {
        "id": "uDlQ_RAEg1eD"
      },
      "source": [
        "# Data Analysis\n",
        "### Data Pre-Processing"
      ]
    },
    {
      "cell_type": "code",
      "metadata": {
        "colab": {
          "base_uri": "https://localhost:8080/",
          "height": 111
        },
        "id": "7DpUL_-af0wJ",
        "outputId": "10ed4aa5-ea9c-49f1-dbfa-0cafddaa7121"
      },
      "source": [
        "#drop the useless column and keep the valuable feature for later predicting, pre-process the date column and filter out the date before 1980\n",
        "stock_df1 = stock_df.copy()\n",
        "stock_df1 = stock_df1.drop(columns=\"ID\")\n",
        "stock_df1['DATE'] = pd.to_datetime(stock_df1['DATE']).dt.year\n",
        "stock_df1 = stock_df1.rename(columns={'DATE':'YEAR'})\n",
        "stock_df1 = stock_df1[stock_df1[\"YEAR\"]>=1980] \n",
        "stock_df1.head(2)"
      ],
      "execution_count": null,
      "outputs": [
        {
          "output_type": "execute_result",
          "data": {
            "text/html": [
              "<div>\n",
              "<style scoped>\n",
              "    .dataframe tbody tr th:only-of-type {\n",
              "        vertical-align: middle;\n",
              "    }\n",
              "\n",
              "    .dataframe tbody tr th {\n",
              "        vertical-align: top;\n",
              "    }\n",
              "\n",
              "    .dataframe thead th {\n",
              "        text-align: right;\n",
              "    }\n",
              "</style>\n",
              "<table border=\"1\" class=\"dataframe\">\n",
              "  <thead>\n",
              "    <tr style=\"text-align: right;\">\n",
              "      <th></th>\n",
              "      <th>SYMBOL</th>\n",
              "      <th>YEAR</th>\n",
              "      <th>OPEN</th>\n",
              "      <th>HIGH</th>\n",
              "      <th>LOW</th>\n",
              "      <th>CLOSE</th>\n",
              "      <th>VOLUME</th>\n",
              "      <th>ADJCLOSE</th>\n",
              "    </tr>\n",
              "  </thead>\n",
              "  <tbody>\n",
              "    <tr>\n",
              "      <th>9</th>\n",
              "      <td>BB</td>\n",
              "      <td>2020</td>\n",
              "      <td>4.97</td>\n",
              "      <td>5.16</td>\n",
              "      <td>4.81</td>\n",
              "      <td>4.84</td>\n",
              "      <td>5361500.0</td>\n",
              "      <td>4.84</td>\n",
              "    </tr>\n",
              "    <tr>\n",
              "      <th>10</th>\n",
              "      <td>BB</td>\n",
              "      <td>2020</td>\n",
              "      <td>5.38</td>\n",
              "      <td>5.43</td>\n",
              "      <td>5.16</td>\n",
              "      <td>5.21</td>\n",
              "      <td>5690900.0</td>\n",
              "      <td>5.21</td>\n",
              "    </tr>\n",
              "  </tbody>\n",
              "</table>\n",
              "</div>"
            ],
            "text/plain": [
              "   SYMBOL  YEAR  OPEN  HIGH   LOW  CLOSE     VOLUME  ADJCLOSE\n",
              "9      BB  2020  4.97  5.16  4.81   4.84  5361500.0      4.84\n",
              "10     BB  2020  5.38  5.43  5.16   5.21  5690900.0      5.21"
            ]
          },
          "metadata": {},
          "execution_count": 7
        }
      ]
    },
    {
      "cell_type": "code",
      "metadata": {
        "colab": {
          "base_uri": "https://localhost:8080/",
          "height": 111
        },
        "id": "zA1HVi9nfZVR",
        "outputId": "f20a6ccc-7d77-4708-a357-74f6694f253d"
      },
      "source": [
        "env_df1 = env_df.copy()\n",
        "env_df1 = env_df1[['Country ISO Code', \\\n",
        "       'Indicator', 'Description','Year', 'Unit','Value']]\n",
        "env_df1 = env_df1[env_df1[\"Year\"]>=1980]\n",
        "env_df1.head(2)"
      ],
      "execution_count": null,
      "outputs": [
        {
          "output_type": "execute_result",
          "data": {
            "text/html": [
              "<div>\n",
              "<style scoped>\n",
              "    .dataframe tbody tr th:only-of-type {\n",
              "        vertical-align: middle;\n",
              "    }\n",
              "\n",
              "    .dataframe tbody tr th {\n",
              "        vertical-align: top;\n",
              "    }\n",
              "\n",
              "    .dataframe thead th {\n",
              "        text-align: right;\n",
              "    }\n",
              "</style>\n",
              "<table border=\"1\" class=\"dataframe\">\n",
              "  <thead>\n",
              "    <tr style=\"text-align: right;\">\n",
              "      <th></th>\n",
              "      <th>Country ISO Code</th>\n",
              "      <th>Indicator</th>\n",
              "      <th>Description</th>\n",
              "      <th>Year</th>\n",
              "      <th>Unit</th>\n",
              "      <th>Value</th>\n",
              "    </tr>\n",
              "  </thead>\n",
              "  <tbody>\n",
              "    <tr>\n",
              "      <th>10</th>\n",
              "      <td>AE</td>\n",
              "      <td>CO2 emissions</td>\n",
              "      <td>Carbon dioxide emissions are those stemming fr...</td>\n",
              "      <td>1980</td>\n",
              "      <td>Mton CO2</td>\n",
              "      <td>41.11924</td>\n",
              "    </tr>\n",
              "    <tr>\n",
              "      <th>11</th>\n",
              "      <td>AE</td>\n",
              "      <td>CO2 emissions</td>\n",
              "      <td>Carbon dioxide emissions are those stemming fr...</td>\n",
              "      <td>1981</td>\n",
              "      <td>Mton CO2</td>\n",
              "      <td>38.04811</td>\n",
              "    </tr>\n",
              "  </tbody>\n",
              "</table>\n",
              "</div>"
            ],
            "text/plain": [
              "   Country ISO Code      Indicator  ...      Unit     Value\n",
              "10               AE  CO2 emissions  ...  Mton CO2  41.11924\n",
              "11               AE  CO2 emissions  ...  Mton CO2  38.04811\n",
              "\n",
              "[2 rows x 6 columns]"
            ]
          },
          "metadata": {},
          "execution_count": 8
        }
      ]
    },
    {
      "cell_type": "code",
      "metadata": {
        "colab": {
          "base_uri": "https://localhost:8080/",
          "height": 111
        },
        "id": "z-j2Bg3Wgc7g",
        "outputId": "ef3ca2c2-0492-4d0d-bfd2-c85c0d193570"
      },
      "source": [
        "company_df1 = company_df.copy()\n",
        "company_df1 = company_df1[['ID', 'SYMBOL', 'PRICE', 'BETA', 'VOLAVG', 'MKTCAP', 'LASTDIV', 'RANGE',\n",
        "       'CHANGES', 'COMPANYNAME', 'INDUSTRY', 'SECTOR', 'DCFDIFF', 'DCF']]\n",
        "company_df1.head(2)"
      ],
      "execution_count": null,
      "outputs": [
        {
          "output_type": "execute_result",
          "data": {
            "text/html": [
              "<div>\n",
              "<style scoped>\n",
              "    .dataframe tbody tr th:only-of-type {\n",
              "        vertical-align: middle;\n",
              "    }\n",
              "\n",
              "    .dataframe tbody tr th {\n",
              "        vertical-align: top;\n",
              "    }\n",
              "\n",
              "    .dataframe thead th {\n",
              "        text-align: right;\n",
              "    }\n",
              "</style>\n",
              "<table border=\"1\" class=\"dataframe\">\n",
              "  <thead>\n",
              "    <tr style=\"text-align: right;\">\n",
              "      <th></th>\n",
              "      <th>ID</th>\n",
              "      <th>SYMBOL</th>\n",
              "      <th>PRICE</th>\n",
              "      <th>BETA</th>\n",
              "      <th>VOLAVG</th>\n",
              "      <th>MKTCAP</th>\n",
              "      <th>LASTDIV</th>\n",
              "      <th>RANGE</th>\n",
              "      <th>CHANGES</th>\n",
              "      <th>COMPANYNAME</th>\n",
              "      <th>INDUSTRY</th>\n",
              "      <th>SECTOR</th>\n",
              "      <th>DCFDIFF</th>\n",
              "      <th>DCF</th>\n",
              "    </tr>\n",
              "  </thead>\n",
              "  <tbody>\n",
              "    <tr>\n",
              "      <th>0</th>\n",
              "      <td>4276</td>\n",
              "      <td>GDP</td>\n",
              "      <td>8.61</td>\n",
              "      <td>2.26205</td>\n",
              "      <td>23768.0</td>\n",
              "      <td>108966432.0</td>\n",
              "      <td>0.00</td>\n",
              "      <td>2.395-11.71</td>\n",
              "      <td>0.27</td>\n",
              "      <td>Goodrich Petroleum Corp</td>\n",
              "      <td>Oil &amp; Gas E&amp;P</td>\n",
              "      <td>Energy</td>\n",
              "      <td>632.38</td>\n",
              "      <td>8.4445</td>\n",
              "    </tr>\n",
              "    <tr>\n",
              "      <th>1</th>\n",
              "      <td>4277</td>\n",
              "      <td>RFIL</td>\n",
              "      <td>4.47</td>\n",
              "      <td>0.92337</td>\n",
              "      <td>40537.0</td>\n",
              "      <td>43678692.0</td>\n",
              "      <td>0.08</td>\n",
              "      <td>3.31-7.38</td>\n",
              "      <td>0.01</td>\n",
              "      <td>RF Industries Ltd</td>\n",
              "      <td>Electrical Equipment &amp; Parts</td>\n",
              "      <td>Industrials</td>\n",
              "      <td>NaN</td>\n",
              "      <td>5.7325</td>\n",
              "    </tr>\n",
              "  </tbody>\n",
              "</table>\n",
              "</div>"
            ],
            "text/plain": [
              "     ID SYMBOL  PRICE  ...       SECTOR  DCFDIFF     DCF\n",
              "0  4276    GDP   8.61  ...       Energy   632.38  8.4445\n",
              "1  4277   RFIL   4.47  ...  Industrials      NaN  5.7325\n",
              "\n",
              "[2 rows x 14 columns]"
            ]
          },
          "metadata": {},
          "execution_count": 9
        }
      ]
    },
    {
      "cell_type": "markdown",
      "metadata": {
        "id": "W2oINW-OiaYJ"
      },
      "source": [
        "### Data Remaking"
      ]
    },
    {
      "cell_type": "code",
      "metadata": {
        "colab": {
          "base_uri": "https://localhost:8080/",
          "height": 111
        },
        "id": "hSdZcI4MnkcD",
        "outputId": "df9ba264-7877-4529-d940-93d676cb73e5"
      },
      "source": [
        "#get the sum of the MKTCAP for each industry\n",
        "company_grouped_df = company_df1.groupby('INDUSTRY')[['MKTCAP']].sum().reset_index()\n",
        "company_grouped_df.head(2)"
      ],
      "execution_count": null,
      "outputs": [
        {
          "output_type": "execute_result",
          "data": {
            "text/html": [
              "<div>\n",
              "<style scoped>\n",
              "    .dataframe tbody tr th:only-of-type {\n",
              "        vertical-align: middle;\n",
              "    }\n",
              "\n",
              "    .dataframe tbody tr th {\n",
              "        vertical-align: top;\n",
              "    }\n",
              "\n",
              "    .dataframe thead th {\n",
              "        text-align: right;\n",
              "    }\n",
              "</style>\n",
              "<table border=\"1\" class=\"dataframe\">\n",
              "  <thead>\n",
              "    <tr style=\"text-align: right;\">\n",
              "      <th></th>\n",
              "      <th>INDUSTRY</th>\n",
              "      <th>MKTCAP</th>\n",
              "    </tr>\n",
              "  </thead>\n",
              "  <tbody>\n",
              "    <tr>\n",
              "      <th>0</th>\n",
              "      <td>Advertising Agencies</td>\n",
              "      <td>4.952692e+10</td>\n",
              "    </tr>\n",
              "    <tr>\n",
              "      <th>1</th>\n",
              "      <td>Aerospace &amp; Defense</td>\n",
              "      <td>9.323847e+11</td>\n",
              "    </tr>\n",
              "  </tbody>\n",
              "</table>\n",
              "</div>"
            ],
            "text/plain": [
              "               INDUSTRY        MKTCAP\n",
              "0  Advertising Agencies  4.952692e+10\n",
              "1   Aerospace & Defense  9.323847e+11"
            ]
          },
          "metadata": {},
          "execution_count": 10
        }
      ]
    },
    {
      "cell_type": "code",
      "metadata": {
        "colab": {
          "base_uri": "https://localhost:8080/",
          "height": 111
        },
        "id": "JaaznPsppHkZ",
        "outputId": "afb355ee-d67c-493d-d8ee-b7a01787b0e1"
      },
      "source": [
        "#get the mean close value of each symbol in each year\n",
        "stock_year_df = stock_df1.groupby(['SYMBOL', 'YEAR'])[['CLOSE']].mean().reset_index()\n",
        "stock_year_df.head(2)"
      ],
      "execution_count": null,
      "outputs": [
        {
          "output_type": "execute_result",
          "data": {
            "text/html": [
              "<div>\n",
              "<style scoped>\n",
              "    .dataframe tbody tr th:only-of-type {\n",
              "        vertical-align: middle;\n",
              "    }\n",
              "\n",
              "    .dataframe tbody tr th {\n",
              "        vertical-align: top;\n",
              "    }\n",
              "\n",
              "    .dataframe thead th {\n",
              "        text-align: right;\n",
              "    }\n",
              "</style>\n",
              "<table border=\"1\" class=\"dataframe\">\n",
              "  <thead>\n",
              "    <tr style=\"text-align: right;\">\n",
              "      <th></th>\n",
              "      <th>SYMBOL</th>\n",
              "      <th>YEAR</th>\n",
              "      <th>CLOSE</th>\n",
              "    </tr>\n",
              "  </thead>\n",
              "  <tbody>\n",
              "    <tr>\n",
              "      <th>0</th>\n",
              "      <td>2CRSI.PA</td>\n",
              "      <td>2018</td>\n",
              "      <td>9.478593</td>\n",
              "    </tr>\n",
              "    <tr>\n",
              "      <th>1</th>\n",
              "      <td>2CRSI.PA</td>\n",
              "      <td>2019</td>\n",
              "      <td>7.957656</td>\n",
              "    </tr>\n",
              "  </tbody>\n",
              "</table>\n",
              "</div>"
            ],
            "text/plain": [
              "     SYMBOL  YEAR     CLOSE\n",
              "0  2CRSI.PA  2018  9.478593\n",
              "1  2CRSI.PA  2019  7.957656"
            ]
          },
          "metadata": {},
          "execution_count": 11
        }
      ]
    },
    {
      "cell_type": "code",
      "metadata": {
        "colab": {
          "base_uri": "https://localhost:8080/",
          "height": 111
        },
        "id": "ZLpjBmOTxNh0",
        "outputId": "52169e8f-1cfd-4b2f-d7a9-dd3695090681"
      },
      "source": [
        "#calculate the Market Price for each company by multuplying the close value and mktcap\n",
        "stock_year_df2 = pd.merge(stock_year_df, company_df1[['SYMBOL', 'MKTCAP']], on = 'SYMBOL', how = 'left')\n",
        "stock_year_df2['MPRICE'] = stock_year_df2['CLOSE'] * stock_year_df2['MKTCAP']\n",
        "stock_year_df2.head(2)"
      ],
      "execution_count": null,
      "outputs": [
        {
          "output_type": "execute_result",
          "data": {
            "text/html": [
              "<div>\n",
              "<style scoped>\n",
              "    .dataframe tbody tr th:only-of-type {\n",
              "        vertical-align: middle;\n",
              "    }\n",
              "\n",
              "    .dataframe tbody tr th {\n",
              "        vertical-align: top;\n",
              "    }\n",
              "\n",
              "    .dataframe thead th {\n",
              "        text-align: right;\n",
              "    }\n",
              "</style>\n",
              "<table border=\"1\" class=\"dataframe\">\n",
              "  <thead>\n",
              "    <tr style=\"text-align: right;\">\n",
              "      <th></th>\n",
              "      <th>SYMBOL</th>\n",
              "      <th>YEAR</th>\n",
              "      <th>CLOSE</th>\n",
              "      <th>MKTCAP</th>\n",
              "      <th>MPRICE</th>\n",
              "    </tr>\n",
              "  </thead>\n",
              "  <tbody>\n",
              "    <tr>\n",
              "      <th>0</th>\n",
              "      <td>2CRSI.PA</td>\n",
              "      <td>2018</td>\n",
              "      <td>9.478593</td>\n",
              "      <td>47024840.0</td>\n",
              "      <td>4.457293e+08</td>\n",
              "    </tr>\n",
              "    <tr>\n",
              "      <th>1</th>\n",
              "      <td>2CRSI.PA</td>\n",
              "      <td>2019</td>\n",
              "      <td>7.957656</td>\n",
              "      <td>47024840.0</td>\n",
              "      <td>3.742075e+08</td>\n",
              "    </tr>\n",
              "  </tbody>\n",
              "</table>\n",
              "</div>"
            ],
            "text/plain": [
              "     SYMBOL  YEAR     CLOSE      MKTCAP        MPRICE\n",
              "0  2CRSI.PA  2018  9.478593  47024840.0  4.457293e+08\n",
              "1  2CRSI.PA  2019  7.957656  47024840.0  3.742075e+08"
            ]
          },
          "metadata": {},
          "execution_count": 12
        }
      ]
    },
    {
      "cell_type": "code",
      "metadata": {
        "colab": {
          "base_uri": "https://localhost:8080/",
          "height": 111
        },
        "id": "zZQ5LczrOH6T",
        "outputId": "0347ed14-7fdd-4cc7-aa38-309e33373102"
      },
      "source": [
        "#merge table according to the company name to get the a overview of the industry price of each industry\n",
        "stock_year_df3 = stock_year_df2.merge(company_df[['SYMBOL', 'INDUSTRY']], on = 'SYMBOL')\n",
        "stock_year_df3 = stock_year_df3.groupby(['YEAR','INDUSTRY'])[['MKTCAP','MPRICE']].sum().reset_index()\n",
        "stock_year_df3['INDUSTRY_PRICE'] = stock_year_df3['MPRICE']/stock_year_df3['MKTCAP']\n",
        "stock_year_df3 = stock_year_df3[['YEAR', 'INDUSTRY','INDUSTRY_PRICE']]\n",
        "stock_year_df3.head(2)"
      ],
      "execution_count": null,
      "outputs": [
        {
          "output_type": "execute_result",
          "data": {
            "text/html": [
              "<div>\n",
              "<style scoped>\n",
              "    .dataframe tbody tr th:only-of-type {\n",
              "        vertical-align: middle;\n",
              "    }\n",
              "\n",
              "    .dataframe tbody tr th {\n",
              "        vertical-align: top;\n",
              "    }\n",
              "\n",
              "    .dataframe thead th {\n",
              "        text-align: right;\n",
              "    }\n",
              "</style>\n",
              "<table border=\"1\" class=\"dataframe\">\n",
              "  <thead>\n",
              "    <tr style=\"text-align: right;\">\n",
              "      <th></th>\n",
              "      <th>YEAR</th>\n",
              "      <th>INDUSTRY</th>\n",
              "      <th>INDUSTRY_PRICE</th>\n",
              "    </tr>\n",
              "  </thead>\n",
              "  <tbody>\n",
              "    <tr>\n",
              "      <th>0</th>\n",
              "      <td>1980</td>\n",
              "      <td>Advertising Agencies</td>\n",
              "      <td>0.469291</td>\n",
              "    </tr>\n",
              "    <tr>\n",
              "      <th>1</th>\n",
              "      <td>1980</td>\n",
              "      <td>Aerospace &amp; Defense</td>\n",
              "      <td>1.172785</td>\n",
              "    </tr>\n",
              "  </tbody>\n",
              "</table>\n",
              "</div>"
            ],
            "text/plain": [
              "   YEAR              INDUSTRY  INDUSTRY_PRICE\n",
              "0  1980  Advertising Agencies        0.469291\n",
              "1  1980   Aerospace & Defense        1.172785"
            ]
          },
          "metadata": {},
          "execution_count": 13
        }
      ]
    },
    {
      "cell_type": "code",
      "metadata": {
        "colab": {
          "base_uri": "https://localhost:8080/",
          "height": 111
        },
        "id": "607Mm-FKRSDW",
        "outputId": "bfaa0bc2-e1de-4eab-b5d3-6d3f8b05e832"
      },
      "source": [
        "#pick one specific indicator to do the data analysis\n",
        "env_df2 = env_df1[env_df1['Indicator']=='CO2 emissions']\n",
        "env_df2 = env_df2.groupby('Year')[['Value']].mean().reset_index()\n",
        "env_df2 = env_df2.rename(columns = {'Year' : 'YEAR'})\n",
        "env_df2.head(2)"
      ],
      "execution_count": null,
      "outputs": [
        {
          "output_type": "execute_result",
          "data": {
            "text/html": [
              "<div>\n",
              "<style scoped>\n",
              "    .dataframe tbody tr th:only-of-type {\n",
              "        vertical-align: middle;\n",
              "    }\n",
              "\n",
              "    .dataframe tbody tr th {\n",
              "        vertical-align: top;\n",
              "    }\n",
              "\n",
              "    .dataframe thead th {\n",
              "        text-align: right;\n",
              "    }\n",
              "</style>\n",
              "<table border=\"1\" class=\"dataframe\">\n",
              "  <thead>\n",
              "    <tr style=\"text-align: right;\">\n",
              "      <th></th>\n",
              "      <th>YEAR</th>\n",
              "      <th>Value</th>\n",
              "    </tr>\n",
              "  </thead>\n",
              "  <tbody>\n",
              "    <tr>\n",
              "      <th>0</th>\n",
              "      <td>1980</td>\n",
              "      <td>99.954698</td>\n",
              "    </tr>\n",
              "    <tr>\n",
              "      <th>1</th>\n",
              "      <td>1981</td>\n",
              "      <td>98.273378</td>\n",
              "    </tr>\n",
              "  </tbody>\n",
              "</table>\n",
              "</div>"
            ],
            "text/plain": [
              "   YEAR      Value\n",
              "0  1980  99.954698\n",
              "1  1981  98.273378"
            ]
          },
          "metadata": {},
          "execution_count": 14
        }
      ]
    },
    {
      "cell_type": "code",
      "metadata": {
        "id": "H1Siz_WNSXIR"
      },
      "source": [
        "#get the correlation of the chosen indicator with each industry, the aim is to find the most related industry accoridng to the indicator\n",
        "industry_lst = list(set(stock_year_df3['INDUSTRY']))\n",
        "industry_lst2 = []\n",
        "corr_lst = []\n",
        "for industry in industry_lst:\n",
        "  temp_df = stock_year_df3[stock_year_df3['INDUSTRY'] == industry]\n",
        "  temp_df = temp_df.merge(env_df2, on='YEAR')\n",
        "  temp_df = temp_df.dropna()\n",
        "  if temp_df.shape[0] < 5:\n",
        "    continue;\n",
        "  industry_lst2.append(industry)\n",
        "  corr_lst.append(temp_df['INDUSTRY_PRICE'].corr(temp_df['Value']))"
      ],
      "execution_count": null,
      "outputs": []
    },
    {
      "cell_type": "code",
      "metadata": {
        "colab": {
          "base_uri": "https://localhost:8080/",
          "height": 450
        },
        "id": "RWOWJHrCUcg5",
        "outputId": "dfafedb0-055f-4bae-bd72-dfb6f53dad16"
      },
      "source": [
        "#show the corr matrix for chosen indicator\n",
        "corr_df = pd.DataFrame()\n",
        "corr_df['Industry'] = industry_lst2\n",
        "corr_df['corr'] = corr_lst\n",
        "corr_df = corr_df.set_index('Industry')\n",
        "corr_df = corr_df.sort_values(by='corr', ascending=False)\n",
        "corr_df"
      ],
      "execution_count": null,
      "outputs": [
        {
          "output_type": "execute_result",
          "data": {
            "text/html": [
              "<div>\n",
              "<style scoped>\n",
              "    .dataframe tbody tr th:only-of-type {\n",
              "        vertical-align: middle;\n",
              "    }\n",
              "\n",
              "    .dataframe tbody tr th {\n",
              "        vertical-align: top;\n",
              "    }\n",
              "\n",
              "    .dataframe thead th {\n",
              "        text-align: right;\n",
              "    }\n",
              "</style>\n",
              "<table border=\"1\" class=\"dataframe\">\n",
              "  <thead>\n",
              "    <tr style=\"text-align: right;\">\n",
              "      <th></th>\n",
              "      <th>corr</th>\n",
              "    </tr>\n",
              "    <tr>\n",
              "      <th>Industry</th>\n",
              "      <th></th>\n",
              "    </tr>\n",
              "  </thead>\n",
              "  <tbody>\n",
              "    <tr>\n",
              "      <th>Oil &amp; Gas Integrated</th>\n",
              "      <td>0.980198</td>\n",
              "    </tr>\n",
              "    <tr>\n",
              "      <th>Utilities Regulated</th>\n",
              "      <td>0.975174</td>\n",
              "    </tr>\n",
              "    <tr>\n",
              "      <th>Utilities Diversified</th>\n",
              "      <td>0.969857</td>\n",
              "    </tr>\n",
              "    <tr>\n",
              "      <th>Asset Management</th>\n",
              "      <td>0.961030</td>\n",
              "    </tr>\n",
              "    <tr>\n",
              "      <th>Department Stores</th>\n",
              "      <td>0.958648</td>\n",
              "    </tr>\n",
              "    <tr>\n",
              "      <th>...</th>\n",
              "      <td>...</td>\n",
              "    </tr>\n",
              "    <tr>\n",
              "      <th>Real Estate</th>\n",
              "      <td>-0.771051</td>\n",
              "    </tr>\n",
              "    <tr>\n",
              "      <th>Property Management</th>\n",
              "      <td>-0.827394</td>\n",
              "    </tr>\n",
              "    <tr>\n",
              "      <th>Apparel Stores</th>\n",
              "      <td>-0.832323</td>\n",
              "    </tr>\n",
              "    <tr>\n",
              "      <th>Health Care Providers</th>\n",
              "      <td>-0.849595</td>\n",
              "    </tr>\n",
              "    <tr>\n",
              "      <th>Retailing</th>\n",
              "      <td>-0.915694</td>\n",
              "    </tr>\n",
              "  </tbody>\n",
              "</table>\n",
              "<p>190 rows × 1 columns</p>\n",
              "</div>"
            ],
            "text/plain": [
              "                           corr\n",
              "Industry                       \n",
              "Oil & Gas Integrated   0.980198\n",
              "Utilities Regulated    0.975174\n",
              "Utilities Diversified  0.969857\n",
              "Asset Management       0.961030\n",
              "Department Stores      0.958648\n",
              "...                         ...\n",
              "Real Estate           -0.771051\n",
              "Property Management   -0.827394\n",
              "Apparel Stores        -0.832323\n",
              "Health Care Providers -0.849595\n",
              "Retailing             -0.915694\n",
              "\n",
              "[190 rows x 1 columns]"
            ]
          },
          "metadata": {},
          "execution_count": 16
        }
      ]
    },
    {
      "cell_type": "code",
      "metadata": {
        "colab": {
          "base_uri": "https://localhost:8080/",
          "height": 287
        },
        "id": "zNWU5dSTVxt1",
        "outputId": "61830068-f2b6-4970-8735-4102703225c3"
      },
      "source": [
        "#check the heatmap\n",
        "import seaborn as sns\n",
        "sns.heatmap(corr_df)"
      ],
      "execution_count": null,
      "outputs": [
        {
          "output_type": "execute_result",
          "data": {
            "text/plain": [
              "<matplotlib.axes._subplots.AxesSubplot at 0x7fb20bec3a50>"
            ]
          },
          "metadata": {},
          "execution_count": 17
        },
        {
          "output_type": "display_data",
          "data": {
            "image/png": "[encoded data removed]",
            "text/plain": [
              "<Figure size 432x288 with 2 Axes>"
            ]
          },
          "metadata": {
            "needs_background": "light"
          }
        }
      ]
    },
    {
      "cell_type": "markdown",
      "metadata": {
        "id": "4X9FkUo_k-Ks"
      },
      "source": [
        "# Data Modeling\n",
        "### Data Pre-Processing"
      ]
    },
    {
      "cell_type": "code",
      "metadata": {
        "id": "fz8T8P1oBauM"
      },
      "source": [
        "env_df3 = env_df1.groupby(['Year', 'Indicator']).Value.mean().unstack()\n",
        "env_df4 = env_df3.copy()\n",
        "for i in env_df4.columns:\n",
        "  if env_df4[i].isna().sum() > 10:\n",
        "   env_df4 = env_df4.drop(i,axis=1)\n",
        "env_df4 = env_df4.reset_index()"
      ],
      "execution_count": null,
      "outputs": []
    },
    {
      "cell_type": "code",
      "metadata": {
        "id": "385qfQXqSGAM"
      },
      "source": [
        "company_df2=company_df1[company_df1['INDUSTRY']=='Oil & Gas Integrated']"
      ],
      "execution_count": null,
      "outputs": []
    },
    {
      "cell_type": "code",
      "metadata": {
        "id": "h7hg1-lKIKIk"
      },
      "source": [
        "stock_df2 = stock_df1.merge(company_df2, on='SYMBOL', how='inner')"
      ],
      "execution_count": null,
      "outputs": []
    },
    {
      "cell_type": "code",
      "metadata": {
        "id": "BWWEQRMOVoqj"
      },
      "source": [
        "stock_df3 = stock_df2.groupby('YEAR')[['SYMBOL', 'OPEN', 'HIGH', 'LOW', 'VOLUME', 'ADJCLOSE',\n",
        "       'MKTCAP', 'LASTDIV', 'RANGE', 'CHANGES','CLOSE']].mean().reset_index().rename(columns={'YEAR':'Year'})"
      ],
      "execution_count": null,
      "outputs": []
    },
    {
      "cell_type": "code",
      "metadata": {
        "colab": {
          "base_uri": "https://localhost:8080/",
          "height": 326
        },
        "id": "OhX187nvVuMl",
        "outputId": "9221d912-8352-428b-a374-845b0108a67a"
      },
      "source": [
        "df = env_df4.merge(stock_df3, on='Year')\n",
        "df.head()"
      ],
      "execution_count": null,
      "outputs": [
        {
          "output_type": "execute_result",
          "data": {
            "text/html": [
              "<div>\n",
              "<style scoped>\n",
              "    .dataframe tbody tr th:only-of-type {\n",
              "        vertical-align: middle;\n",
              "    }\n",
              "\n",
              "    .dataframe tbody tr th {\n",
              "        vertical-align: top;\n",
              "    }\n",
              "\n",
              "    .dataframe thead th {\n",
              "        text-align: right;\n",
              "    }\n",
              "</style>\n",
              "<table border=\"1\" class=\"dataframe\">\n",
              "  <thead>\n",
              "    <tr style=\"text-align: right;\">\n",
              "      <th></th>\n",
              "      <th>Year</th>\n",
              "      <th>Agricultural methane emissions</th>\n",
              "      <th>Agricultural nitrous oxide emissions</th>\n",
              "      <th>CO2 emissions</th>\n",
              "      <th>CO2 emissions from bunker fuels</th>\n",
              "      <th>CO2 emissions from cement production</th>\n",
              "      <th>CO2 emissions from electricity production (%)</th>\n",
              "      <th>CO2 emissions from fossil-fuels</th>\n",
              "      <th>CO2 emissions from gas flaring</th>\n",
              "      <th>CO2 emissions from gas fuel consumption</th>\n",
              "      <th>CO2 emissions from gaseous fuel consumption</th>\n",
              "      <th>CO2 emissions from gaseous fuel consumption (%)</th>\n",
              "      <th>CO2 emissions from liquid fuel consumption</th>\n",
              "      <th>CO2 emissions from liquid fuel consumption (%)</th>\n",
              "      <th>CO2 emissions from manufacturing industries (%)</th>\n",
              "      <th>CO2 emissions from other sectors (%)</th>\n",
              "      <th>CO2 emissions from solid fuel consumption</th>\n",
              "      <th>CO2 emissions from solid fuel consumption (%)</th>\n",
              "      <th>CO2 emissions intensity</th>\n",
              "      <th>CO2 emissions per capita</th>\n",
              "      <th>CO2 emissions: residential buildings (%)</th>\n",
              "      <th>CO2 emissions: transport (%)</th>\n",
              "      <th>CO2 intensity</th>\n",
              "      <th>Methane emissions</th>\n",
              "      <th>Methane emissions in energy sector</th>\n",
              "      <th>Nitrous oxide emissions</th>\n",
              "      <th>Nitrous oxide emissions in energy</th>\n",
              "      <th>Other greenhouse gas emissions</th>\n",
              "      <th>OPEN</th>\n",
              "      <th>HIGH</th>\n",
              "      <th>LOW</th>\n",
              "      <th>VOLUME</th>\n",
              "      <th>ADJCLOSE</th>\n",
              "      <th>MKTCAP</th>\n",
              "      <th>LASTDIV</th>\n",
              "      <th>CHANGES</th>\n",
              "      <th>CLOSE</th>\n",
              "    </tr>\n",
              "  </thead>\n",
              "  <tbody>\n",
              "    <tr>\n",
              "      <th>0</th>\n",
              "      <td>1980</td>\n",
              "      <td>15589.587600</td>\n",
              "      <td>7963.209203</td>\n",
              "      <td>99.954698</td>\n",
              "      <td>672.548387</td>\n",
              "      <td>544.167742</td>\n",
              "      <td>28.919077</td>\n",
              "      <td>23116.135484</td>\n",
              "      <td>514.406452</td>\n",
              "      <td>3172.929032</td>\n",
              "      <td>15963.528181</td>\n",
              "      <td>6.111742</td>\n",
              "      <td>30308.889152</td>\n",
              "      <td>73.875675</td>\n",
              "      <td>24.756069</td>\n",
              "      <td>5.360065</td>\n",
              "      <td>23973.752873</td>\n",
              "      <td>12.360296</td>\n",
              "      <td>NaN</td>\n",
              "      <td>3.597459</td>\n",
              "      <td>11.683461</td>\n",
              "      <td>29.260161</td>\n",
              "      <td>2.381464</td>\n",
              "      <td>31702.128570</td>\n",
              "      <td>9027.940920</td>\n",
              "      <td>14234.023368</td>\n",
              "      <td>967.738977</td>\n",
              "      <td>27363.863531</td>\n",
              "      <td>-1.891075</td>\n",
              "      <td>3.063456</td>\n",
              "      <td>2.713677</td>\n",
              "      <td>1.206871e+06</td>\n",
              "      <td>2.898938</td>\n",
              "      <td>5.469026e+10</td>\n",
              "      <td>2.363024</td>\n",
              "      <td>0.528351</td>\n",
              "      <td>2.898938</td>\n",
              "    </tr>\n",
              "    <tr>\n",
              "      <th>1</th>\n",
              "      <td>1981</td>\n",
              "      <td>15362.547149</td>\n",
              "      <td>7722.499702</td>\n",
              "      <td>98.273378</td>\n",
              "      <td>613.698718</td>\n",
              "      <td>544.974359</td>\n",
              "      <td>29.330255</td>\n",
              "      <td>22415.038462</td>\n",
              "      <td>373.371795</td>\n",
              "      <td>3147.679487</td>\n",
              "      <td>16245.062106</td>\n",
              "      <td>6.576686</td>\n",
              "      <td>28901.001070</td>\n",
              "      <td>74.120811</td>\n",
              "      <td>24.466230</td>\n",
              "      <td>5.211043</td>\n",
              "      <td>23728.709601</td>\n",
              "      <td>12.352755</td>\n",
              "      <td>NaN</td>\n",
              "      <td>3.366222</td>\n",
              "      <td>11.511598</td>\n",
              "      <td>29.469466</td>\n",
              "      <td>2.255892</td>\n",
              "      <td>30961.869737</td>\n",
              "      <td>8766.730423</td>\n",
              "      <td>13730.248942</td>\n",
              "      <td>966.528692</td>\n",
              "      <td>24708.484510</td>\n",
              "      <td>-2.699650</td>\n",
              "      <td>4.495692</td>\n",
              "      <td>4.055540</td>\n",
              "      <td>1.072263e+06</td>\n",
              "      <td>4.265532</td>\n",
              "      <td>5.239872e+10</td>\n",
              "      <td>2.310522</td>\n",
              "      <td>0.507596</td>\n",
              "      <td>4.265532</td>\n",
              "    </tr>\n",
              "    <tr>\n",
              "      <th>2</th>\n",
              "      <td>1982</td>\n",
              "      <td>15583.616547</td>\n",
              "      <td>8107.843561</td>\n",
              "      <td>97.322670</td>\n",
              "      <td>550.089744</td>\n",
              "      <td>553.891026</td>\n",
              "      <td>29.994226</td>\n",
              "      <td>22249.884615</td>\n",
              "      <td>372.532051</td>\n",
              "      <td>2985.141026</td>\n",
              "      <td>15928.600006</td>\n",
              "      <td>6.534829</td>\n",
              "      <td>28335.016326</td>\n",
              "      <td>73.723849</td>\n",
              "      <td>23.848597</td>\n",
              "      <td>5.122822</td>\n",
              "      <td>24272.163241</td>\n",
              "      <td>12.863696</td>\n",
              "      <td>NaN</td>\n",
              "      <td>3.279952</td>\n",
              "      <td>11.368081</td>\n",
              "      <td>29.672707</td>\n",
              "      <td>2.201325</td>\n",
              "      <td>33170.177151</td>\n",
              "      <td>8948.994438</td>\n",
              "      <td>14621.440507</td>\n",
              "      <td>977.681023</td>\n",
              "      <td>33493.073572</td>\n",
              "      <td>-0.541372</td>\n",
              "      <td>1.019723</td>\n",
              "      <td>0.839643</td>\n",
              "      <td>1.282910e+06</td>\n",
              "      <td>0.919236</td>\n",
              "      <td>4.890537e+10</td>\n",
              "      <td>2.202792</td>\n",
              "      <td>0.449316</td>\n",
              "      <td>0.919236</td>\n",
              "    </tr>\n",
              "    <tr>\n",
              "      <th>3</th>\n",
              "      <td>1983</td>\n",
              "      <td>15538.441701</td>\n",
              "      <td>8187.663425</td>\n",
              "      <td>98.219654</td>\n",
              "      <td>534.314103</td>\n",
              "      <td>576.102564</td>\n",
              "      <td>30.614523</td>\n",
              "      <td>22539.294872</td>\n",
              "      <td>335.057692</td>\n",
              "      <td>2950.487179</td>\n",
              "      <td>16172.363831</td>\n",
              "      <td>6.871939</td>\n",
              "      <td>28184.736209</td>\n",
              "      <td>73.224936</td>\n",
              "      <td>23.455904</td>\n",
              "      <td>5.346545</td>\n",
              "      <td>25084.158111</td>\n",
              "      <td>13.343925</td>\n",
              "      <td>NaN</td>\n",
              "      <td>3.206057</td>\n",
              "      <td>10.972519</td>\n",
              "      <td>29.604429</td>\n",
              "      <td>2.207765</td>\n",
              "      <td>32381.752121</td>\n",
              "      <td>9102.710237</td>\n",
              "      <td>14490.029081</td>\n",
              "      <td>990.926341</td>\n",
              "      <td>30963.953635</td>\n",
              "      <td>-0.516075</td>\n",
              "      <td>0.942810</td>\n",
              "      <td>0.795825</td>\n",
              "      <td>1.290028e+06</td>\n",
              "      <td>0.864169</td>\n",
              "      <td>4.648319e+10</td>\n",
              "      <td>2.147214</td>\n",
              "      <td>0.413779</td>\n",
              "      <td>0.864169</td>\n",
              "    </tr>\n",
              "    <tr>\n",
              "      <th>4</th>\n",
              "      <td>1984</td>\n",
              "      <td>15399.426392</td>\n",
              "      <td>8128.191671</td>\n",
              "      <td>101.592149</td>\n",
              "      <td>537.705128</td>\n",
              "      <td>600.019231</td>\n",
              "      <td>30.983501</td>\n",
              "      <td>23391.294872</td>\n",
              "      <td>289.608974</td>\n",
              "      <td>3190.929487</td>\n",
              "      <td>17511.758500</td>\n",
              "      <td>7.445518</td>\n",
              "      <td>28333.707665</td>\n",
              "      <td>72.234575</td>\n",
              "      <td>23.235636</td>\n",
              "      <td>5.074744</td>\n",
              "      <td>26213.678472</td>\n",
              "      <td>13.937733</td>\n",
              "      <td>NaN</td>\n",
              "      <td>3.317016</td>\n",
              "      <td>11.245804</td>\n",
              "      <td>29.432518</td>\n",
              "      <td>2.159745</td>\n",
              "      <td>31570.347113</td>\n",
              "      <td>9288.016955</td>\n",
              "      <td>14039.189785</td>\n",
              "      <td>1010.309296</td>\n",
              "      <td>23409.797339</td>\n",
              "      <td>-0.221481</td>\n",
              "      <td>0.791030</td>\n",
              "      <td>0.673204</td>\n",
              "      <td>1.353418e+06</td>\n",
              "      <td>0.729626</td>\n",
              "      <td>4.716864e+10</td>\n",
              "      <td>2.165933</td>\n",
              "      <td>0.423669</td>\n",
              "      <td>0.729626</td>\n",
              "    </tr>\n",
              "  </tbody>\n",
              "</table>\n",
              "</div>"
            ],
            "text/plain": [
              "   Year  Agricultural methane emissions  ...   CHANGES     CLOSE\n",
              "0  1980                    15589.587600  ...  0.528351  2.898938\n",
              "1  1981                    15362.547149  ...  0.507596  4.265532\n",
              "2  1982                    15583.616547  ...  0.449316  0.919236\n",
              "3  1983                    15538.441701  ...  0.413779  0.864169\n",
              "4  1984                    15399.426392  ...  0.423669  0.729626\n",
              "\n",
              "[5 rows x 37 columns]"
            ]
          },
          "metadata": {},
          "execution_count": 22
        }
      ]
    },
    {
      "cell_type": "code",
      "metadata": {
        "colab": {
          "base_uri": "https://localhost:8080/"
        },
        "id": "S7bDcF4bVlY5",
        "outputId": "95d35027-b643-4c04-fc7a-c9a8be8b3c9a"
      },
      "source": [
        "df.isna().sum()"
      ],
      "execution_count": null,
      "outputs": [
        {
          "output_type": "execute_result",
          "data": {
            "text/plain": [
              "Year                                                0\n",
              "Agricultural methane emissions                      1\n",
              "Agricultural nitrous oxide emissions                1\n",
              "CO2 emissions                                       0\n",
              "CO2 emissions from bunker fuels                     5\n",
              "CO2 emissions from cement production                5\n",
              "CO2 emissions from electricity production (%)       5\n",
              "CO2 emissions from fossil-fuels                     5\n",
              "CO2 emissions from gas flaring                      5\n",
              "CO2 emissions from gas fuel consumption             5\n",
              "CO2 emissions from gaseous fuel consumption         3\n",
              "CO2 emissions from gaseous fuel consumption (%)     3\n",
              "CO2 emissions from liquid fuel consumption          3\n",
              "CO2 emissions from liquid fuel consumption (%)      3\n",
              "CO2 emissions from manufacturing industries (%)     5\n",
              "CO2 emissions from other sectors (%)                5\n",
              "CO2 emissions from solid fuel consumption           3\n",
              "CO2 emissions from solid fuel consumption (%)       3\n",
              "CO2 emissions intensity                            10\n",
              "CO2 emissions per capita                            0\n",
              "CO2 emissions: residential buildings (%)            5\n",
              "CO2 emissions: transport (%)                        5\n",
              "CO2 intensity                                       4\n",
              "Methane emissions                                   1\n",
              "Methane emissions in energy sector                  1\n",
              "Nitrous oxide emissions                             1\n",
              "Nitrous oxide emissions in energy                   1\n",
              "Other greenhouse gas emissions                      3\n",
              "OPEN                                                0\n",
              "HIGH                                                0\n",
              "LOW                                                 0\n",
              "VOLUME                                              0\n",
              "ADJCLOSE                                            0\n",
              "MKTCAP                                              0\n",
              "LASTDIV                                             0\n",
              "CHANGES                                             0\n",
              "CLOSE                                               0\n",
              "dtype: int64"
            ]
          },
          "metadata": {},
          "execution_count": 23
        }
      ]
    },
    {
      "cell_type": "code",
      "metadata": {
        "id": "UsHrIbhEZAC6"
      },
      "source": [
        "from sklearn.model_selection import train_test_split\n",
        "from sklearn.impute import SimpleImputer\n",
        "from sklearn.preprocessing import Normalizer\n",
        "from sklearn.model_selection import GridSearchCV\n",
        "from sklearn import svm"
      ],
      "execution_count": null,
      "outputs": []
    },
    {
      "cell_type": "code",
      "metadata": {
        "id": "xF1yfNLXIFxH"
      },
      "source": [
        "X = df.iloc[:,:-1]\n",
        "y = df.iloc[:,-1]\n",
        "\n",
        "train_X, test_X, train_y,  test_y = train_test_split(X, y, random_state=0)"
      ],
      "execution_count": null,
      "outputs": []
    },
    {
      "cell_type": "code",
      "metadata": {
        "id": "XprgbwWrHmD2"
      },
      "source": [
        "# Data imputation\n",
        "imp_mean = SimpleImputer(missing_values=np.nan, strategy='mean')\n",
        "train_X_imp = imp_mean.fit_transform(train_X)\n",
        "test_X_imp = imp_mean.transform(test_X)"
      ],
      "execution_count": null,
      "outputs": []
    },
    {
      "cell_type": "code",
      "metadata": {
        "id": "C0TJXxaZHhkS"
      },
      "source": [
        "# Data normalization\n",
        "transformer = Normalizer()\n",
        "train_X_trans = transformer.fit_transform(train_X_imp)\n",
        "test_X_trans = transformer.transform(test_X_imp)"
      ],
      "execution_count": null,
      "outputs": []
    },
    {
      "cell_type": "markdown",
      "metadata": {
        "id": "gk3CfOA6lgeZ"
      },
      "source": [
        "### SVM regression"
      ]
    },
    {
      "cell_type": "code",
      "metadata": {
        "colab": {
          "base_uri": "https://localhost:8080/"
        },
        "id": "8RxlnrTeGsLk",
        "outputId": "30860ae4-0fb0-4bd3-f1d7-8906d17a62bf"
      },
      "source": [
        "parameters = {'kernel':('linear', 'rbf'), 'C':[1, 10]}\n",
        "svr = svm.SVR()\n",
        "svr.fit(train_X_trans, train_y)"
      ],
      "execution_count": null,
      "outputs": [
        {
          "output_type": "execute_result",
          "data": {
            "text/plain": [
              "SVR(C=1.0, cache_size=200, coef0=0.0, degree=3, epsilon=0.1, gamma='scale',\n",
              "    kernel='rbf', max_iter=-1, shrinking=True, tol=0.001, verbose=False)"
            ]
          },
          "metadata": {},
          "execution_count": 28
        }
      ]
    },
    {
      "cell_type": "code",
      "metadata": {
        "colab": {
          "base_uri": "https://localhost:8080/"
        },
        "id": "xIT0DVg4GgeP",
        "outputId": "4aa89d42-8935-47a1-845a-53bc382f9cff"
      },
      "source": [
        " svr.score(train_X_trans,train_y)"
      ],
      "execution_count": null,
      "outputs": [
        {
          "output_type": "execute_result",
          "data": {
            "text/plain": [
              "-0.23544499424394671"
            ]
          },
          "metadata": {},
          "execution_count": 29
        }
      ]
    },
    {
      "cell_type": "code",
      "metadata": {
        "colab": {
          "base_uri": "https://localhost:8080/"
        },
        "id": "3AAJEn922_LN",
        "outputId": "77b4e47f-ce28-44de-88f4-ea0ff36a676a"
      },
      "source": [
        "from sklearn.preprocessing import PolynomialFeatures\n",
        "poly = PolynomialFeatures(degree=2)\n",
        "train_X_po = poly.fit_transform(train_X_trans)\n",
        "test_X_po = poly.transform(test_X_trans)\n",
        "from sklearn import linear_model\n",
        "reg = linear_model.LinearRegression()\n",
        "reg.fit(train_X_po,train_y)\n",
        "reg.score(test_X_po, test_y)"
      ],
      "execution_count": null,
      "outputs": [
        {
          "output_type": "execute_result",
          "data": {
            "text/plain": [
              "0.9944645529887056"
            ]
          },
          "metadata": {},
          "execution_count": 30
        }
      ]
    },
    {
      "cell_type": "markdown",
      "metadata": {
        "id": "UAM6U1-Qw9JX"
      },
      "source": [
        "The result is overfitting which may causing by the data leakage when dealing with the date column and the open value of the stock. We will try to find a new way to clean data in Goldman Modeling.ipynb."
      ]
    }
  ]
}